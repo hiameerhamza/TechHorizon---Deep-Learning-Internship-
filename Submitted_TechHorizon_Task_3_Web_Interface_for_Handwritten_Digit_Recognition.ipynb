{
  "cells": [
    {
      "cell_type": "markdown",
      "source": [
        "# **TechHorizon**\n",
        "# Task 3: Digit Drawing Recognition Web App\n",
        "**Internship Task – TechHorizon**\n",
        "\n",
        "**Student / Intern: Ameer Hamza**\n",
        "\n"
      ],
      "metadata": {
        "id": "--LEX89-dB0v"
      }
    },
    {
      "cell_type": "markdown",
      "source": [
        "As part of Task 3, the goal is to build a simple web interface that allows users to upload or draw handwritten digits and receive predictions.\n",
        "\n",
        "We continue from Task 1, where a model was trained to recognize handwritten digits (e.g., using the MNIST dataset) and subsequently saved.\n",
        "\n",
        "**In this task, we load the previously saved model from Task 1** and use it to make predictions through a basic web interface. This interface allows real-time digit classification without retraining the model."
      ],
      "metadata": {
        "id": "rA6cBvFac5fP"
      }
    },
    {
      "cell_type": "code",
      "execution_count": 13,
      "metadata": {
        "id": "cy47F9Zwbq-F"
      },
      "outputs": [],
      "source": [
        "import gradio as gr\n",
        "import cv2"
      ]
    },
    {
      "cell_type": "code",
      "execution_count": 14,
      "metadata": {
        "scrolled": true,
        "colab": {
          "base_uri": "https://localhost:8080/",
          "height": 645
        },
        "id": "t-v29wEVbq-F",
        "outputId": "aa48bbd3-0f77-4710-b923-515436ff1df9"
      },
      "outputs": [
        {
          "output_type": "stream",
          "name": "stdout",
          "text": [
            "It looks like you are running Gradio on a hosted Jupyter notebook, which requires `share=True`. Automatically setting `share=True` (you can turn this off by setting `share=False` in `launch()` explicitly).\n",
            "\n",
            "Colab notebook detected. To show errors in colab notebook, set debug=True in launch()\n",
            "* Running on public URL: https://b8df57299be765bc21.gradio.live\n",
            "\n",
            "This share link expires in 1 week. For free permanent hosting and GPU upgrades, run `gradio deploy` from the terminal in the working directory to deploy to Hugging Face Spaces (https://huggingface.co/spaces)\n"
          ]
        },
        {
          "output_type": "display_data",
          "data": {
            "text/plain": [
              "<IPython.core.display.HTML object>"
            ],
            "text/html": [
              "<div><iframe src=\"https://b8df57299be765bc21.gradio.live\" width=\"100%\" height=\"500\" allow=\"autoplay; camera; microphone; clipboard-read; clipboard-write;\" frameborder=\"0\" allowfullscreen></iframe></div>"
            ]
          },
          "metadata": {}
        },
        {
          "output_type": "execute_result",
          "data": {
            "text/plain": []
          },
          "metadata": {},
          "execution_count": 14
        }
      ],
      "source": [
        "import numpy as np\n",
        "import gradio as gr\n",
        "from tensorflow import keras\n",
        "import cv2\n",
        "\n",
        "MODEL_PATH = \"TechHorizonTask1Model.keras\"\n",
        "model = keras.models.load_model(MODEL_PATH)  # Load once at start\n",
        "\n",
        "def preprocess(img):\n",
        "    \"\"\"\n",
        "    Convert canvas (H,W,3) uint8 image to 28x28 grayscale [0,1].\n",
        "    \"\"\"\n",
        "    if img is None:\n",
        "        return np.zeros((28,28), dtype=np.float32)\n",
        "\n",
        "    # If img is a dict, extract 'image'\n",
        "    if isinstance(img, dict):\n",
        "        img = img.get(\"image\", None)\n",
        "        if img is None:\n",
        "            return np.zeros((28,28), dtype=np.float32)\n",
        "\n",
        "    # Convert to grayscale\n",
        "    gray = cv2.cvtColor(img, cv2.COLOR_RGB2GRAY)\n",
        "\n",
        "    # Threshold to enhance contrast (make strokes darker)\n",
        "    _, gray = cv2.threshold(gray, 200, 255, cv2.THRESH_BINARY_INV)\n",
        "\n",
        "    # Resize with padding to keep aspect ratio\n",
        "    h, w = gray.shape\n",
        "    scale = 20.0 / max(h, w)\n",
        "    resized = cv2.resize(gray, (int(w * scale), int(h * scale)), interpolation=cv2.INTER_AREA)\n",
        "\n",
        "    canvas = np.full((28, 28), 0, dtype=np.uint8)  # Black background\n",
        "    y_off = (28 - resized.shape[0]) // 2\n",
        "    x_off = (28 - resized.shape[1]) // 2\n",
        "    canvas[y_off:y_off + resized.shape[0], x_off:x_off + resized.shape[1]] = resized\n",
        "\n",
        "    # Normalize to [0,1]\n",
        "    norm = canvas.astype(\"float32\") / 255.0\n",
        "\n",
        "    return norm\n",
        "\n",
        "def predict_digit(img):\n",
        "    x = preprocess(img).reshape(1, 28, 28)\n",
        "    preds = model.predict(x, verbose=0)[0]\n",
        "    top = int(np.argmax(preds))\n",
        "    probs = {str(i): float(p) for i, p in enumerate(preds)}\n",
        "    return top, probs\n",
        "\n",
        "def clear_canvas():\n",
        "    return None\n",
        "\n",
        "with gr.Blocks() as demo:\n",
        "    gr.Markdown(\"# ✏️ MNIST Digit Recognizer\")\n",
        "    gr.Markdown(\"Draw a digit (0–9) in the canvas below and click **Predict**.\")\n",
        "    with gr.Row():\n",
        "        canvas = gr.ImageEditor(\n",
        "            sources=[\"upload\"],\n",
        "            type=\"numpy\",\n",
        "            image_mode=\"L\",\n",
        "            width=280, height=280\n",
        "        )\n",
        "        with gr.Column():\n",
        "            btn = gr.Button(\"Predict\")\n",
        "            clear = gr.Button(\"Clear\")\n",
        "            label = gr.Label(num_top_classes=10)\n",
        "            number = gr.Number(label=\"Predicted Digit\", precision=0)\n",
        "    btn.click(predict_digit, inputs=[canvas], outputs=[number, label])\n",
        "    clear.click(fn=clear_canvas, inputs=None, outputs=[canvas])\n",
        "\n",
        "demo.launch()\n"
      ]
    },
    {
      "cell_type": "code",
      "execution_count": 15,
      "metadata": {
        "colab": {
          "base_uri": "https://localhost:8080/",
          "height": 645
        },
        "id": "NiqP6dUbbq-G",
        "outputId": "3dbdd390-0d2e-42ba-f24e-29f943820189"
      },
      "outputs": [
        {
          "output_type": "stream",
          "name": "stdout",
          "text": [
            "It looks like you are running Gradio on a hosted Jupyter notebook, which requires `share=True`. Automatically setting `share=True` (you can turn this off by setting `share=False` in `launch()` explicitly).\n",
            "\n",
            "Colab notebook detected. To show errors in colab notebook, set debug=True in launch()\n",
            "* Running on public URL: https://a88e9797969e40b33a.gradio.live\n",
            "\n",
            "This share link expires in 1 week. For free permanent hosting and GPU upgrades, run `gradio deploy` from the terminal in the working directory to deploy to Hugging Face Spaces (https://huggingface.co/spaces)\n"
          ]
        },
        {
          "output_type": "display_data",
          "data": {
            "text/plain": [
              "<IPython.core.display.HTML object>"
            ],
            "text/html": [
              "<div><iframe src=\"https://a88e9797969e40b33a.gradio.live\" width=\"100%\" height=\"500\" allow=\"autoplay; camera; microphone; clipboard-read; clipboard-write;\" frameborder=\"0\" allowfullscreen></iframe></div>"
            ]
          },
          "metadata": {}
        },
        {
          "output_type": "execute_result",
          "data": {
            "text/plain": []
          },
          "metadata": {},
          "execution_count": 15
        }
      ],
      "source": [
        "with gr.Blocks() as demo:\n",
        "    gr.Markdown(\"# 🧠 MNIST Digit Recognizer\")\n",
        "    gr.Markdown(\"Draw a digit (0–9) below, then click **Predict**.\")\n",
        "\n",
        "    with gr.Row():\n",
        "        canvas = gr.Sketchpad(label=\"Draw here\", height=280, width=280)\n",
        "        with gr.Column():\n",
        "            btn = gr.Button(\"Predict\")\n",
        "            clear = gr.Button(\"Clear\")\n",
        "            number = gr.Number(label=\"Predicted Digit\", precision=0)\n",
        "            label = gr.Label(num_top_classes=10)\n",
        "\n",
        "    btn.click(predict_digit, inputs=[canvas], outputs=[number, label])\n",
        "    clear.click(fn=clear_canvas, inputs=None, outputs=[canvas])\n",
        "demo.launch()\n"
      ]
    }
  ],
  "metadata": {
    "colab": {
      "provenance": []
    },
    "kernelspec": {
      "display_name": "Python 3 (ipykernel)",
      "language": "python",
      "name": "python3"
    },
    "language_info": {
      "codemirror_mode": {
        "name": "ipython",
        "version": 3
      },
      "file_extension": ".py",
      "mimetype": "text/x-python",
      "name": "python",
      "nbconvert_exporter": "python",
      "pygments_lexer": "ipython3",
      "version": "3.11.9"
    }
  },
  "nbformat": 4,
  "nbformat_minor": 0
}